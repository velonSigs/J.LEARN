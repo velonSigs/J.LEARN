{
 "cells": [
  {
   "cell_type": "code",
   "execution_count": 1,
   "id": "78c5a9f2-76f9-4936-840b-2f5cac8e416f",
   "metadata": {},
   "outputs": [],
   "source": [
    "import sys"
   ]
  },
  {
   "cell_type": "code",
   "execution_count": 2,
   "id": "3939392b-4317-42e7-a002-cef3af599c44",
   "metadata": {},
   "outputs": [],
   "source": [
    "import math"
   ]
  },
  {
   "cell_type": "code",
   "execution_count": null,
   "id": "d2d3fdea-94e3-40c2-8587-41e363e2b885",
   "metadata": {},
   "outputs": [],
   "source": [
    "while True:\n",
    "    # 异常检查\n",
    "    try:\n",
    "        num = input().split()\n",
    "\n",
    "    except:\n",
    "        print(\"error\")"
   ]
  },
  {
   "cell_type": "code",
   "execution_count": null,
   "id": "e3dec47f-ac48-428b-9292-4df48a84256f",
   "metadata": {},
   "outputs": [],
   "source": []
  }
 ],
 "metadata": {
  "kernelspec": {
   "display_name": "Python 3 (ipykernel)",
   "language": "python",
   "name": "python3"
  },
  "language_info": {
   "codemirror_mode": {
    "name": "ipython",
    "version": 3
   },
   "file_extension": ".py",
   "mimetype": "text/x-python",
   "name": "python",
   "nbconvert_exporter": "python",
   "pygments_lexer": "ipython3",
   "version": "3.8.10"
  }
 },
 "nbformat": 4,
 "nbformat_minor": 5
}
